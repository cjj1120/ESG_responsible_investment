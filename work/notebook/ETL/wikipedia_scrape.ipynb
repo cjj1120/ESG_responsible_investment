{
 "cells": [
  {
   "cell_type": "code",
   "execution_count": 1,
   "id": "ebfd7c1f-5f2b-4119-86af-106746fd2b89",
   "metadata": {},
   "outputs": [],
   "source": [
    "import pandas as pd\n",
    "import requests\n",
    "from bs4 import BeautifulSoup\n",
    "from datetime import datetime"
   ]
  },
  {
   "cell_type": "code",
   "execution_count": 2,
   "id": "5fb83bcd-f5b7-4736-82a1-b8131d369553",
   "metadata": {},
   "outputs": [],
   "source": [
    "output_file_path = '../../data/raw'"
   ]
  },
  {
   "cell_type": "code",
   "execution_count": 3,
   "id": "b31eb3f0-1d68-4d2e-ac4f-f18b7656f40c",
   "metadata": {},
   "outputs": [],
   "source": [
    "# Get response in the form of HTML\n",
    "wikiurl = \"https://en.wikipedia.org/wiki/List_of_S%26P_500_companies\"\n",
    "def wiki_scraper(wikiurl):\n",
    "\n",
    "    response=requests.get(wikiurl)\n",
    "    response_code = response.status_code\n",
    "    \n",
    "    if response_code == 200:\n",
    "        print(\"Response successful\")\n",
    "        \n",
    "        # parse data from the html into a beautifulsoup object\n",
    "        soup = BeautifulSoup(response.text, 'html.parser')\n",
    "        snp_table=soup.find('table',{'class':\"wikitable\"})\n",
    "        \n",
    "        snp_df=pd.read_html(str(snp_table))\n",
    "        \n",
    "        # convert list to dataframe\n",
    "        snp_df=pd.DataFrame(snp_df[0])\n",
    "        \n",
    "        if type(snp_df) != 'pandas.core.frame.DataFrame':\n",
    "            print(\"DataFrame loaded successfully\")\n",
    "        else:\n",
    "            print(\"Loading wikipedia to DataFrame has failed\")\n",
    "        \n",
    "        return snp_df\n",
    "                  \n",
    "    elif response_code != 200:\n",
    "        print(\"Invalid response from Wikipedia\")\n",
    "        "
   ]
  },
  {
   "cell_type": "code",
   "execution_count": 4,
   "id": "b19fc71c-a512-45a2-ae48-21264a0cd65b",
   "metadata": {},
   "outputs": [
    {
     "name": "stdout",
     "output_type": "stream",
     "text": [
      "Response successful\n",
      "DataFrame loaded successfully\n"
     ]
    }
   ],
   "source": [
    "wiki_scraper(wikiurl).to_csv(f'{output_file_path}/snp_companies_raw_full_{datetime.now().strftime(\"%d-%b-%Y\")}.csv')"
   ]
  }
 ],
 "metadata": {
  "kernelspec": {
   "display_name": "Python 3 (ipykernel)",
   "language": "python",
   "name": "python3"
  },
  "language_info": {
   "codemirror_mode": {
    "name": "ipython",
    "version": 3
   },
   "file_extension": ".py",
   "mimetype": "text/x-python",
   "name": "python",
   "nbconvert_exporter": "python",
   "pygments_lexer": "ipython3",
   "version": "3.9.5"
  }
 },
 "nbformat": 4,
 "nbformat_minor": 5
}
