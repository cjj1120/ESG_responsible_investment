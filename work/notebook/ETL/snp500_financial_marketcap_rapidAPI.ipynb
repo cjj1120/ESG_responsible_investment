{
 "cells": [
  {
   "cell_type": "code",
   "execution_count": 1,
   "id": "ef938c11",
   "metadata": {},
   "outputs": [],
   "source": [
    "import pandas as pd\n",
    "import os \n",
    "import random\n",
    "import requests\n",
    "import datetime\n",
    "import gc "
   ]
  },
  {
   "cell_type": "code",
   "execution_count": 2,
   "id": "3d92d2b9",
   "metadata": {},
   "outputs": [
    {
     "data": {
      "text/plain": [
       "'C:\\\\Users\\\\User\\\\@Code-ML\\\\[Project]-ESG_responsible_investment\\\\work\\\\notebook\\\\ETL'"
      ]
     },
     "execution_count": 2,
     "metadata": {},
     "output_type": "execute_result"
    }
   ],
   "source": [
    "os.getcwd()"
   ]
  },
  {
   "cell_type": "markdown",
   "id": "57c9689a",
   "metadata": {},
   "source": [
    "### Getting ticker list from data "
   ]
  },
  {
   "cell_type": "code",
   "execution_count": 4,
   "id": "6bdfb722",
   "metadata": {},
   "outputs": [
    {
     "data": {
      "text/plain": [
       "(507, 5)"
      ]
     },
     "metadata": {},
     "output_type": "display_data"
    },
    {
     "data": {
      "text/html": [
       "<div>\n",
       "<style scoped>\n",
       "    .dataframe tbody tr th:only-of-type {\n",
       "        vertical-align: middle;\n",
       "    }\n",
       "\n",
       "    .dataframe tbody tr th {\n",
       "        vertical-align: top;\n",
       "    }\n",
       "\n",
       "    .dataframe thead th {\n",
       "        text-align: right;\n",
       "    }\n",
       "</style>\n",
       "<table border=\"1\" class=\"dataframe\">\n",
       "  <thead>\n",
       "    <tr style=\"text-align: right;\">\n",
       "      <th></th>\n",
       "      <th>ticker</th>\n",
       "      <th>company_name</th>\n",
       "      <th>gics_sector</th>\n",
       "      <th>gics_sub_industry</th>\n",
       "      <th>is_esg</th>\n",
       "    </tr>\n",
       "  </thead>\n",
       "  <tbody>\n",
       "    <tr>\n",
       "      <th>0</th>\n",
       "      <td>A</td>\n",
       "      <td>Agilent Technologies</td>\n",
       "      <td>Health Care</td>\n",
       "      <td>Health Care Equipment</td>\n",
       "      <td>1</td>\n",
       "    </tr>\n",
       "    <tr>\n",
       "      <th>1</th>\n",
       "      <td>AAL</td>\n",
       "      <td>American Airlines Group</td>\n",
       "      <td>Industrials</td>\n",
       "      <td>Airlines</td>\n",
       "      <td>1</td>\n",
       "    </tr>\n",
       "    <tr>\n",
       "      <th>2</th>\n",
       "      <td>AAP</td>\n",
       "      <td>Advance Auto Parts</td>\n",
       "      <td>Consumer Discretionary</td>\n",
       "      <td>Automotive Retail</td>\n",
       "      <td>0</td>\n",
       "    </tr>\n",
       "    <tr>\n",
       "      <th>3</th>\n",
       "      <td>AAPL</td>\n",
       "      <td>Apple</td>\n",
       "      <td>Information Technology</td>\n",
       "      <td>Technology Hardware, Storage &amp; Peripherals</td>\n",
       "      <td>1</td>\n",
       "    </tr>\n",
       "    <tr>\n",
       "      <th>4</th>\n",
       "      <td>ABBV</td>\n",
       "      <td>AbbVie</td>\n",
       "      <td>Health Care</td>\n",
       "      <td>Pharmaceuticals</td>\n",
       "      <td>1</td>\n",
       "    </tr>\n",
       "  </tbody>\n",
       "</table>\n",
       "</div>"
      ],
      "text/plain": [
       "  ticker             company_name             gics_sector  \\\n",
       "0      A     Agilent Technologies             Health Care   \n",
       "1    AAL  American Airlines Group             Industrials   \n",
       "2    AAP       Advance Auto Parts  Consumer Discretionary   \n",
       "3   AAPL                    Apple  Information Technology   \n",
       "4   ABBV                   AbbVie             Health Care   \n",
       "\n",
       "                            gics_sub_industry  is_esg  \n",
       "0                       Health Care Equipment       1  \n",
       "1                                    Airlines       1  \n",
       "2                           Automotive Retail       0  \n",
       "3  Technology Hardware, Storage & Peripherals       1  \n",
       "4                             Pharmaceuticals       1  "
      ]
     },
     "execution_count": 4,
     "metadata": {},
     "output_type": "execute_result"
    }
   ],
   "source": [
    "snp500_df = pd.read_csv(\"../../data/transform/dim_snp_esg_full_16-Jan-2022.csv\")\n",
    "display(snp500_df.shape)\n",
    "snp500_df.head()"
   ]
  },
  {
   "cell_type": "code",
   "execution_count": 161,
   "id": "e9ba41e6",
   "metadata": {},
   "outputs": [
    {
     "data": {
      "text/plain": [
       "507"
      ]
     },
     "metadata": {},
     "output_type": "display_data"
    },
    {
     "data": {
      "text/plain": [
       "['PLD', 'SLB', 'MDLZ', 'GPN', 'AVY', 'JNPR', 'ITW', 'CCI', 'HSY', 'LLY']"
      ]
     },
     "execution_count": 161,
     "metadata": {},
     "output_type": "execute_result"
    }
   ],
   "source": [
    "snp500_list = snp500_df['ticker'].tolist()\n",
    "display(len(snp500_list))\n",
    "random.sample(snp500_list, 10)"
   ]
  },
  {
   "cell_type": "markdown",
   "id": "010916f7",
   "metadata": {},
   "source": [
    "### Testing the API "
   ]
  },
  {
   "cell_type": "code",
   "execution_count": 113,
   "id": "7b983cec",
   "metadata": {},
   "outputs": [],
   "source": [
    "def financial_data_scrapper_test(one_ticker):\n",
    "    error_tickers = []\n",
    "    url = \"https://yh-finance.p.rapidapi.com/stock/v2/get-summary\"\n",
    "    headers = {\n",
    "        'x-rapidapi-host': \"yh-finance.p.rapidapi.com\",\n",
    "        'x-rapidapi-key': \"0d6b57ef54msh4015eb34a7c83a7p14538ejsn2cf132bdfe8b\"\n",
    "        }\n",
    "    scraped_df = pd.DataFrame()\n",
    "\n",
    "    querystring = {\"symbol\":one_ticker,\"region\":\"US\"}\n",
    "    response = requests.request(\"GET\", url, headers=headers, params=querystring)\n",
    "    data_row = pd.json_normalize(response.json())\n",
    "    scraped_df = pd.concat([scraped_df, data_row], axis=0).reset_index(drop=True)\n",
    "    return scraped_df"
   ]
  },
  {
   "cell_type": "code",
   "execution_count": 114,
   "id": "08d3046b",
   "metadata": {},
   "outputs": [],
   "source": [
    "df2 = financial_data_scrapper_test(\"AAPL\")"
   ]
  },
  {
   "cell_type": "code",
   "execution_count": null,
   "id": "6a08552c",
   "metadata": {},
   "outputs": [],
   "source": []
  },
  {
   "cell_type": "markdown",
   "id": "eae43d3f",
   "metadata": {},
   "source": [
    "### Get data \n",
    "Using Rapid API to get data. API limit rate is 500 calls.  \n",
    "\n",
    "Wonder why append doesnt work.. But pd.concat works fine.. "
   ]
  },
  {
   "cell_type": "code",
   "execution_count": 147,
   "id": "2fa227fe",
   "metadata": {},
   "outputs": [],
   "source": [
    "\n",
    "def financial_data_scrapper(dl_list):\n",
    "    error_tickers = []\n",
    "    url = \"https://yh-finance.p.rapidapi.com/stock/v2/get-summary\"\n",
    "    headers = {\n",
    "        'x-rapidapi-host': \"yh-finance.p.rapidapi.com\",\n",
    "        'x-rapidapi-key': \"1a87b90e75msh7c6537354938f02p191c4cjsna0993a54a78a\"\n",
    "        }\n",
    "    scraped_df = pd.DataFrame()\n",
    "    marketcap_df = pd.DataFrame()\n",
    "    marketcap_tuple_list = []\n",
    "\n",
    "    for ticker in dl_list: \n",
    "        try:\n",
    "            querystring = {\"symbol\":ticker,\"region\":\"US\"}\n",
    "            response = requests.request(\"GET\", url, headers=headers, params=querystring)\n",
    "#             data_row = pd.json_normalize(response.json())\n",
    "#             scraped_df.append(data_row)\n",
    "            data_row = pd.json_normalize(response.json())\n",
    "            scraped_df = pd.concat([scraped_df, data_row], axis=0).reset_index(drop=True)\n",
    "            print(f'Successfully processed {ticker} at {datetime.datetime.now() }!')\n",
    "            print(f'DataFrame size is {scraped_df.shape}.\\n')\n",
    "            \n",
    "            marketcap_tuple = (scraped_df['symbol'].iloc[-1], scraped_df['price.marketCap.raw'].iloc[-1] )                \n",
    "            print(\"Marketcap: \",marketcap_tuple)\n",
    "            marketcap_tuple_list.append(marketcap_tuple)\n",
    "            \n",
    "        except KeyError:\n",
    "            error_tickers.append(ticker)\n",
    "            print(f'This ticker {ticker} is not found.\\n')\n",
    "            continue\n",
    "    return scraped_df, marketcap_tuple_list"
   ]
  },
  {
   "cell_type": "code",
   "execution_count": 148,
   "id": "3afcb0bb",
   "metadata": {
    "collapsed": true
   },
   "outputs": [
    {
     "name": "stdout",
     "output_type": "stream",
     "text": [
      "Successfully processed XRAY at 2022-01-17 16:54:33.816570!\n",
      "DataFrame size is (1, 449).\n",
      "\n",
      "Marketcap:  ('XRAY', 11791662080)\n",
      "Successfully processed XYL at 2022-01-17 16:54:36.125030!\n",
      "DataFrame size is (2, 449).\n",
      "\n",
      "Marketcap:  ('XYL', 20113448960)\n",
      "Successfully processed YUM at 2022-01-17 16:54:38.493570!\n",
      "DataFrame size is (3, 449).\n",
      "\n",
      "Marketcap:  ('YUM', 37245476864)\n",
      "Successfully processed ZBH at 2022-01-17 16:54:40.901587!\n",
      "DataFrame size is (4, 449).\n",
      "\n",
      "Marketcap:  ('ZBH', 26610700288)\n",
      "Successfully processed ZBRA at 2022-01-17 16:54:43.218884!\n",
      "DataFrame size is (5, 450).\n",
      "\n",
      "Marketcap:  ('ZBRA', 28217112576)\n",
      "Successfully processed ZION at 2022-01-17 16:54:45.825517!\n",
      "DataFrame size is (6, 450).\n",
      "\n",
      "Marketcap:  ('ZION', 11054111744)\n",
      "Successfully processed ZTS at 2022-01-17 16:54:48.226250!\n",
      "DataFrame size is (7, 450).\n",
      "\n",
      "Marketcap:  ('ZTS', 97549115392)\n"
     ]
    }
   ],
   "source": [
    "#Getting the reamaining data \n",
    "second_scraped_df, second_marketcap_tuple_list = financial_data_scrapper(snp500_list[500:])         "
   ]
  },
  {
   "cell_type": "markdown",
   "id": "791b7f1a",
   "metadata": {},
   "source": [
    "### Full scraped data"
   ]
  },
  {
   "cell_type": "code",
   "execution_count": 102,
   "id": "3c318093",
   "metadata": {},
   "outputs": [],
   "source": [
    "first_scraped_df = scraped_df[:500]"
   ]
  },
  {
   "cell_type": "code",
   "execution_count": 154,
   "id": "607b03ef",
   "metadata": {},
   "outputs": [],
   "source": [
    "full_scraped_df = pd.concat([first_scraped_df, second_scraped_df])\n",
    "#full_scraped_df.to_csv('full_financial_details.csv')"
   ]
  },
  {
   "cell_type": "markdown",
   "id": "93abd739",
   "metadata": {},
   "source": [
    "### Marketcap data "
   ]
  },
  {
   "cell_type": "code",
   "execution_count": null,
   "id": "bd91e6b0",
   "metadata": {},
   "outputs": [],
   "source": [
    "first_marketcap_tuple_list = marketcap_tuple_list[:500]"
   ]
  },
  {
   "cell_type": "code",
   "execution_count": 159,
   "id": "baea52ed",
   "metadata": {},
   "outputs": [
    {
     "data": {
      "text/plain": [
       "(507, 2)"
      ]
     },
     "metadata": {},
     "output_type": "display_data"
    },
    {
     "data": {
      "text/html": [
       "<div>\n",
       "<style scoped>\n",
       "    .dataframe tbody tr th:only-of-type {\n",
       "        vertical-align: middle;\n",
       "    }\n",
       "\n",
       "    .dataframe tbody tr th {\n",
       "        vertical-align: top;\n",
       "    }\n",
       "\n",
       "    .dataframe thead th {\n",
       "        text-align: right;\n",
       "    }\n",
       "</style>\n",
       "<table border=\"1\" class=\"dataframe\">\n",
       "  <thead>\n",
       "    <tr style=\"text-align: right;\">\n",
       "      <th></th>\n",
       "      <th>Ticker</th>\n",
       "      <th>Marketcap</th>\n",
       "    </tr>\n",
       "  </thead>\n",
       "  <tbody>\n",
       "    <tr>\n",
       "      <th>0</th>\n",
       "      <td>A</td>\n",
       "      <td>4.369350e+10</td>\n",
       "    </tr>\n",
       "    <tr>\n",
       "      <th>1</th>\n",
       "      <td>AAL</td>\n",
       "      <td>1.197253e+10</td>\n",
       "    </tr>\n",
       "    <tr>\n",
       "      <th>2</th>\n",
       "      <td>AAP</td>\n",
       "      <td>1.494031e+10</td>\n",
       "    </tr>\n",
       "    <tr>\n",
       "      <th>3</th>\n",
       "      <td>AAPL</td>\n",
       "      <td>2.826995e+12</td>\n",
       "    </tr>\n",
       "    <tr>\n",
       "      <th>4</th>\n",
       "      <td>ABBV</td>\n",
       "      <td>2.402018e+11</td>\n",
       "    </tr>\n",
       "  </tbody>\n",
       "</table>\n",
       "</div>"
      ],
      "text/plain": [
       "  Ticker     Marketcap\n",
       "0      A  4.369350e+10\n",
       "1    AAL  1.197253e+10\n",
       "2    AAP  1.494031e+10\n",
       "3   AAPL  2.826995e+12\n",
       "4   ABBV  2.402018e+11"
      ]
     },
     "execution_count": 159,
     "metadata": {},
     "output_type": "execute_result"
    }
   ],
   "source": [
    "full_marketcap_tuple_list = first_marketcap_tuple_list +second_marketcap_tuple_list\n",
    "df_marketcap = pd.DataFrame(full_marketcap_tuple_list, columns =['Ticker', 'Marketcap'])\n",
    "display(df_marketcap.shape)\n",
    "df_marketcap.head()"
   ]
  },
  {
   "cell_type": "code",
   "execution_count": 160,
   "id": "ce12f92c",
   "metadata": {},
   "outputs": [],
   "source": [
    "#df_marketcap.to_csv('marketcap_data.csv')"
   ]
  },
  {
   "cell_type": "code",
   "execution_count": null,
   "id": "27c6e3ee",
   "metadata": {},
   "outputs": [],
   "source": []
  }
 ],
 "metadata": {
  "kernelspec": {
   "display_name": "Python 3 (ipykernel)",
   "language": "python",
   "name": "python3"
  },
  "language_info": {
   "codemirror_mode": {
    "name": "ipython",
    "version": 3
   },
   "file_extension": ".py",
   "mimetype": "text/x-python",
   "name": "python",
   "nbconvert_exporter": "python",
   "pygments_lexer": "ipython3",
   "version": "3.7.12"
  }
 },
 "nbformat": 4,
 "nbformat_minor": 5
}
