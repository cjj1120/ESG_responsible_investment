{
 "cells": [
  {
   "cell_type": "markdown",
   "id": "8c2f8218",
   "metadata": {},
   "source": [
    "# snp500 index"
   ]
  },
  {
   "cell_type": "code",
   "execution_count": 6,
   "id": "bdc4a396",
   "metadata": {},
   "outputs": [],
   "source": [
    "# dependencies\n",
    "import requests\n",
    "import os\n",
    "os.getcwd()"
   ]
  },
  {
   "cell_type": "code",
   "execution_count": 7,
   "id": "31c242fe",
   "metadata": {},
   "outputs": [
    {
     "data": {
      "text/plain": [
       "{'Content-Type': 'application/vnd.ms-excel', 'Transfer-Encoding': 'chunked', 'Connection': 'keep-alive', 'Date': 'Sat, 22 Jan 2022 03:20:38 GMT', 'Server': 'Apache', 'X-Frame-Options': 'SAMEORIGIN', 'Strict-Transport-Security': 'max-age=63072000; includeSubdomains;', 'X-XSS-Protection': '1; mode=block', 'Content-disposition': 'attachment;filename=PerformanceGraphExport.xls', 'Pragma': '', 'Expires': 'Thu, 01 Jan 1970 00:00:00 GMT', 'Vary': 'Accept-Encoding,User-Agent', 'Content-Encoding': 'gzip', 'Cache-Control': 'no-store, no-cache, must-revalidate, max-age=0, post-check=0, pre-check=0, private', 'X-Cache': 'Miss from cloudfront', 'Via': '1.1 1d57d3cbfc5a5b868b460784e4cd7888.cloudfront.net (CloudFront)', 'X-Amz-Cf-Pop': 'SIN52-C3', 'X-Amz-Cf-Id': 'W5S-O4xtM5MImws6aT8iVjDEMHUcjvybH1SVRRI2W03HVuWXPRh8BQ=='}"
      ]
     },
     "execution_count": 7,
     "metadata": {},
     "output_type": "execute_result"
    }
   ],
   "source": [
    "statUrl = \"https://www.spglobal.com/spdji/en/idsexport/file.xls?hostIdentifier=48190c8c-42c4-46af-8d1a-0cd5db894797&redesignExport=true&languageId=1&selectedModule=PerformanceGraphView&selectedSubModule=Graph&yearFlag=oneYearFlag&indexId=340\"\n",
    "req = requests.get(statUrl)\n",
    "req.headers"
   ]
  },
  {
   "cell_type": "code",
   "execution_count": 15,
   "id": "facd264f",
   "metadata": {},
   "outputs": [
    {
     "data": {
      "text/plain": [
       "'C:\\\\Users\\\\20jam\\\\Documents\\\\GitHub\\\\ESG_responsible_investment\\\\work\\\\data\\\\raw\\\\PerformanceGraphExport_SnP500Ind_22Jan2022.xls'"
      ]
     },
     "execution_count": 15,
     "metadata": {},
     "output_type": "execute_result"
    }
   ],
   "source": [
    "start_position = req.headers[\"Content-disposition\"].find('=')+1\n",
    "Description = req.headers[\"Content-disposition\"][start_position:][:-4]\n",
    "Extension = req.headers[\"Content-disposition\"][start_position:][-4:]\n",
    "processing_date = req.headers[\"Date\"][req.headers[\"Date\"].find(' ')+1:].split(' ')[0:3]\n",
    "Date = \"\".join(processing_date)\n",
    "Directory = \"C:\\\\Users\\\\20jam\\\\Documents\\\\GitHub\\\\ESG_responsible_investment\\\\work\\\\data\\\\raw\\\\\"\n",
    "naming = Directory + Description + \"_SnP500Ind_\" + Date + Extension\n",
    "naming"
   ]
  },
  {
   "cell_type": "code",
   "execution_count": 16,
   "id": "b3970c71",
   "metadata": {},
   "outputs": [],
   "source": [
    "with open(naming, \"wb\") as f:\n",
    "    f.write(req.content)"
   ]
  }
 ],
 "metadata": {
  "kernelspec": {
   "display_name": "Python 3 (ipykernel)",
   "language": "python",
   "name": "python3"
  },
  "language_info": {
   "codemirror_mode": {
    "name": "ipython",
    "version": 3
   },
   "file_extension": ".py",
   "mimetype": "text/x-python",
   "name": "python",
   "nbconvert_exporter": "python",
   "pygments_lexer": "ipython3",
   "version": "3.9.7"
  }
 },
 "nbformat": 4,
 "nbformat_minor": 5
}
