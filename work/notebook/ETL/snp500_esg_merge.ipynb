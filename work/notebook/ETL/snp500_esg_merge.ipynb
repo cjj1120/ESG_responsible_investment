{
 "cells": [
  {
   "cell_type": "markdown",
   "id": "cc0e6bbc-9d66-469e-93d8-1a0876554868",
   "metadata": {},
   "source": [
    "# Merging all S&P500 companies and ESG companies shortlisted by S&P within S&P500"
   ]
  },
  {
   "cell_type": "markdown",
   "id": "8159ff49-fdc2-4428-9a16-9d061c6dfc9d",
   "metadata": {},
   "source": [
    "## Load the Data"
   ]
  },
  {
   "cell_type": "code",
   "execution_count": null,
   "id": "2052858e-0c18-440e-9194-f8a7e65d4bcc",
   "metadata": {},
   "outputs": [],
   "source": [
    "import pandas as pd\n",
    "import numpy as np\n",
    "from datetime import datetime"
   ]
  },
  {
   "cell_type": "code",
   "execution_count": null,
   "id": "21409f6c-e687-488f-a056-eec6e071a88a",
   "metadata": {},
   "outputs": [],
   "source": [
    "input_folder_path = '../../data/raw'\n",
    "output_folder_path = '../../data/transform'\n",
    "\n",
    "# Read files\n",
    "snp_full = f'{input_folder_path}/snp_companies_raw_full_15-Jan-2022.csv'\n",
    "snp_esg = f'{input_folder_path}/sp-500-esg-index-01-15-2022.csv'\n",
    "\n",
    "snp_full_df = pd.read_csv(snp_full).drop('Unnamed: 0',axis=1)\n",
    "snp_esg_df = pd.read_csv(snp_esg)"
   ]
  },
  {
   "cell_type": "code",
   "execution_count": null,
   "id": "65d2f2a1-1129-419b-9916-826d0a7589c3",
   "metadata": {},
   "outputs": [],
   "source": [
    "print(f'Full shape of all S&P companies {snp_full_df.shape}')\n",
    "print(f'Shape of ESG companies {snp_esg_df.shape}')"
   ]
  },
  {
   "cell_type": "markdown",
   "id": "b7de2f4f",
   "metadata": {},
   "source": [
    "## Light Data Exploration for data quality"
   ]
  },
  {
   "cell_type": "code",
   "execution_count": null,
   "id": "b752e535-d85b-4db7-898e-13b03559f7e2",
   "metadata": {},
   "outputs": [],
   "source": [
    "snp_full_df"
   ]
  },
  {
   "cell_type": "code",
   "execution_count": null,
   "id": "9041d945",
   "metadata": {},
   "outputs": [],
   "source": [
    "snp_esg_df"
   ]
  },
  {
   "cell_type": "code",
   "execution_count": null,
   "id": "ac9bcb92",
   "metadata": {},
   "outputs": [],
   "source": [
    "# Data Cleaning and Data reduction\n",
    "\n",
    "# Remove the Barchart 'watermark'\n",
    "snp_esg_df = (\n",
    "    snp_esg_df[\n",
    "        ~snp_esg_df['Symbol'].str.contains('Downloaded')]\n",
    ")\n",
    "\n",
    "# Drop Irrelevent Columns\n",
    "snp_full_df = snp_full_df.drop(['SEC filings', 'Headquarters Location', 'CIK', 'Founded', 'Date first added'],axis=1)\n",
    "snp_esg_df = snp_esg_df.drop(['Name','Last', 'Change', '%Chg', 'High', 'Low', 'Volume','Time'],axis=1)"
   ]
  },
  {
   "cell_type": "code",
   "execution_count": null,
   "id": "0e95ed42",
   "metadata": {},
   "outputs": [],
   "source": [
    "# Check for df shape\n",
    "print(snp_full_df.shape)\n",
    "print(snp_esg_df.shape)\n",
    "\n",
    "# Check for duplication. False when there is no duplication\n",
    "print(len(snp_esg_df.duplicated()) != snp_esg_df.shape[0])\n",
    "print(len(snp_full_df.duplicated()) != snp_full_df.shape[0])"
   ]
  },
  {
   "cell_type": "markdown",
   "id": "b5dd1570-a3c0-4d69-83e4-c3144e4d1c01",
   "metadata": {},
   "source": [
    "## Find ESG companies and their relevant info"
   ]
  },
  {
   "cell_type": "code",
   "execution_count": null,
   "id": "355d5004-4d02-4745-bb68-73bf4d8a73aa",
   "metadata": {},
   "outputs": [],
   "source": [
    "snp_esg_full = (snp_full_df.merge(snp_esg_df,\n",
    "                                 how='left',\n",
    "                                 left_on='Symbol',\n",
    "                                 right_on='Symbol',\n",
    "                                 indicator=True))\n",
    "\n",
    "snp_esg_full['_merge'] = np.where(snp_esg_full['_merge'] == 'both',1,0)\n",
    "\n",
    "# Table Clean up\n",
    "snp_esg_full = (snp_esg_full\n",
    "                # Rename _merge column for readability\n",
    "                .rename({'_merge':'is_esg'}, axis=1)\n",
    "                \n",
    "                # Sort Values and reset the index\n",
    "                .sort_values(['Symbol', 'GICS Sector'], ascending=True)\n",
    "                .reset_index()\n",
    "                .drop('index',axis=1))\n",
    "\n"
   ]
  },
  {
   "cell_type": "code",
   "execution_count": null,
   "id": "71e970a8",
   "metadata": {},
   "outputs": [],
   "source": [
    "# Convert date_first_added_temp to datetime object\n",
    "snp_esg_full['date_first_added_temp'] = pd.to_datetime(snp_esg_full['date_first_added_temp'])"
   ]
  },
  {
   "cell_type": "code",
   "execution_count": null,
   "id": "060250c6",
   "metadata": {},
   "outputs": [],
   "source": [
    "test = snp_esg_full[snp_esg_full.notna()]"
   ]
  },
  {
   "cell_type": "code",
   "execution_count": null,
   "id": "3a4be931",
   "metadata": {},
   "outputs": [],
   "source": [
    "test"
   ]
  },
  {
   "cell_type": "code",
   "execution_count": null,
   "id": "ea4a8ca5",
   "metadata": {},
   "outputs": [],
   "source": [
    "# snp_esg_full.to_csv(f'{output_folder_path}/snp_esg_full_{datetime.now().strftime(\"%d-%b-%Y\")}.csv')"
   ]
  },
  {
   "cell_type": "code",
   "execution_count": null,
   "id": "dabac733",
   "metadata": {},
   "outputs": [],
   "source": []
  }
 ],
 "metadata": {
  "kernelspec": {
   "display_name": "Python 3 (ipykernel)",
   "language": "python",
   "name": "python3"
  },
  "language_info": {
   "codemirror_mode": {
    "name": "ipython",
    "version": 3
   },
   "file_extension": ".py",
   "mimetype": "text/x-python",
   "name": "python",
   "nbconvert_exporter": "python",
   "pygments_lexer": "ipython3",
   "version": "3.9.5"
  }
 },
 "nbformat": 4,
 "nbformat_minor": 5
}
